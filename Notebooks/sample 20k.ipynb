{
 "cells": [
  {
   "cell_type": "code",
   "execution_count": 3,
   "metadata": {},
   "outputs": [
    {
     "name": "stderr",
     "output_type": "stream",
     "text": [
      "Copying images: 100%|██████████| 20000/20000 [01:57<00:00, 170.46it/s]"
     ]
    },
    {
     "name": "stdout",
     "output_type": "stream",
     "text": [
      "Successfully copied 20000 images to E:/Coding/Advanced ML/sample_train_data.\n"
     ]
    },
    {
     "name": "stderr",
     "output_type": "stream",
     "text": [
      "\n"
     ]
    }
   ],
   "source": [
    "import os\n",
    "import shutil\n",
    "import numpy as np\n",
    "from tqdm import tqdm\n",
    "\n",
    "ORIGINAL_IMG_FOLDER = \"E:/Coding/Advanced ML/train_data\"\n",
    "FILTERED_IMG_FOLDER = \"E:/Coding/Advanced ML/sample_train_data\"\n",
    "SAMPLE_SIZE = 20000\n",
    "\n",
    "# Get all image filenames from the original dataset\n",
    "all_filenames = np.array(os.listdir(ORIGINAL_IMG_FOLDER))\n",
    "\n",
    "np.random.seed(42)\n",
    "selected_filenames = np.random.choice(all_filenames, size=SAMPLE_SIZE, replace=False)\n",
    "\n",
    "# Create the new folder if it doesn't exist\n",
    "os.makedirs(FILTERED_IMG_FOLDER, exist_ok=True)\n",
    "\n",
    "# Copy files to the new \"filtered\" folder\n",
    "for filename in tqdm(selected_filenames, desc=\"Copying images\"):\n",
    "    src_path = os.path.join(ORIGINAL_IMG_FOLDER, filename)\n",
    "    dst_path = os.path.join(FILTERED_IMG_FOLDER, filename)\n",
    "    shutil.copy2(src_path, dst_path)\n",
    "\n",
    "print(f\"Successfully copied {len(selected_filenames)} images to {FILTERED_IMG_FOLDER}.\")\n"
   ]
  }
 ],
 "metadata": {
  "kernelspec": {
   "display_name": ".venv",
   "language": "python",
   "name": "python3"
  },
  "language_info": {
   "codemirror_mode": {
    "name": "ipython",
    "version": 3
   },
   "file_extension": ".py",
   "mimetype": "text/x-python",
   "name": "python",
   "nbconvert_exporter": "python",
   "pygments_lexer": "ipython3",
   "version": "3.10.6"
  }
 },
 "nbformat": 4,
 "nbformat_minor": 2
}
